{
 "cells": [
  {
   "attachments": {},
   "cell_type": "markdown",
   "metadata": {},
   "source": [
    "<p>1. eGovFrame 예제 파일 소스를 따로 package를 만들려면 따로 등록을 해주어야 한다.</p>\n",
    "<p>context-common.xml 변경</p>\n",
    "\n",
    "```xml\n",
    "    <!-- 자바 패키지 추가로 등록 시 추가할 사항입니다. -->\n",
    "    <!-- main 컨트롤러 어노테이션 지정후 추가 -->\n",
    "    <context:component-scan base-package=\"egovframework, main\">\n",
    "       <context:exclude-filter type=\"annotation\" \n",
    "       expression=\"org.springframework.stereotype.Controller\" />\n",
    "    </context:component-scan>\n",
    "\t<!-- context-common.xml 변경 -->\n",
    "```\n",
    "\n",
    "<p>dispatcher-servlet.xml 변경</p>\n",
    "\n",
    "```xml\n",
    "    <!-- 자바 패키지 추가로 등록 시 추가할 사항입니다. -->\n",
    "    <context:component-scan base-package=\"egovframework, main\">\n",
    "        <context:include-filter type=\"annotation\" \n",
    "        expression=\"org.springframework.stereotype.Controller\"/>\n",
    "        <context:exclude-filter type=\"annotation\" \n",
    "        expression=\"org.springframework.stereotype.Service\"/>\n",
    "        <context:exclude-filter type=\"annotation\" \n",
    "        expression=\"org.springframework.stereotype.Repository\"/>\n",
    "    </context:component-scan>\n",
    "\t<!-- dispatcher-servlet.xml 변경 -->\n",
    "```"
   ]
  }
 ],
 "metadata": {
  "language_info": {
   "name": "python"
  },
  "orig_nbformat": 4
 },
 "nbformat": 4,
 "nbformat_minor": 2
}
